{
 "cells": [
  {
   "cell_type": "code",
   "execution_count": 1,
   "metadata": {
    "collapsed": true,
    "ExecuteTime": {
     "end_time": "2023-08-03T11:32:07.565725100Z",
     "start_time": "2023-08-03T11:32:07.112266Z"
    }
   },
   "outputs": [],
   "source": [
    "import pandas as pd\n",
    "import numpy as np\n",
    "\n",
    "dataset = pd.read_csv('Data.csv')\n",
    "X = dataset.iloc[:, :-1].values\n",
    "y = dataset.iloc[:, -1].values"
   ]
  },
  {
   "cell_type": "code",
   "execution_count": 2,
   "outputs": [],
   "source": [
    "y = y/2 - 1"
   ],
   "metadata": {
    "collapsed": false,
    "ExecuteTime": {
     "end_time": "2023-08-03T11:32:07.580410300Z",
     "start_time": "2023-08-03T11:32:07.567721500Z"
    }
   }
  },
  {
   "cell_type": "code",
   "execution_count": 3,
   "outputs": [],
   "source": [
    "from xgboost import XGBClassifier\n",
    "\n",
    "classifier = XGBClassifier()\n"
   ],
   "metadata": {
    "collapsed": false,
    "ExecuteTime": {
     "end_time": "2023-08-03T11:32:08.272884200Z",
     "start_time": "2023-08-03T11:32:07.582399700Z"
    }
   }
  },
  {
   "cell_type": "code",
   "execution_count": 4,
   "outputs": [],
   "source": [
    "from sklearn.model_selection import KFold\n",
    "from sklearn.metrics import accuracy_score, recall_score\n",
    "kfold = KFold(n_splits=10, random_state=100, shuffle=True)\n",
    "\n",
    "accuracies = []\n",
    "recalls = []\n",
    "\n",
    "for train, test in kfold.split(X):\n",
    "    X_train, X_test, y_train, y_test = X[train,], X[test,], y[train,], y[test,]\n",
    "\n",
    "    classifier.fit(X_train,y_train)\n",
    "    y_pred = classifier.predict(X_test)\n",
    "    accuracies.append(accuracy_score(y_test,y_pred))\n",
    "    recalls.append(recall_score(y_test,y_pred))\n"
   ],
   "metadata": {
    "collapsed": false,
    "ExecuteTime": {
     "end_time": "2023-08-03T11:32:08.538174200Z",
     "start_time": "2023-08-03T11:32:08.272884200Z"
    }
   }
  },
  {
   "cell_type": "code",
   "execution_count": 5,
   "outputs": [],
   "source": [
    "mean_rec = np.mean(recalls).round(3)\n",
    "mean_acc = np.mean(accuracies).round(3)\n",
    "std_rec = np.std(recalls).round(3)\n",
    "std_acc = np.std(accuracies).round(3)\n",
    "\n",
    "results = {'Mean Accuracy': mean_acc, 'STD Accuracy': std_acc, 'Mean Recall': mean_rec, 'STD Recall': std_rec}"
   ],
   "metadata": {
    "collapsed": false,
    "ExecuteTime": {
     "end_time": "2023-08-03T11:32:08.553134400Z",
     "start_time": "2023-08-03T11:32:08.539172600Z"
    }
   }
  },
  {
   "cell_type": "code",
   "execution_count": 6,
   "outputs": [
    {
     "data": {
      "text/plain": "{'Mean Accuracy': 0.965,\n 'STD Accuracy': 0.027,\n 'Mean Recall': 0.954,\n 'STD Recall': 0.043}"
     },
     "execution_count": 6,
     "metadata": {},
     "output_type": "execute_result"
    }
   ],
   "source": [
    "results"
   ],
   "metadata": {
    "collapsed": false,
    "ExecuteTime": {
     "end_time": "2023-08-03T11:32:08.600008500Z",
     "start_time": "2023-08-03T11:32:08.556127Z"
    }
   }
  },
  {
   "cell_type": "code",
   "execution_count": 7,
   "outputs": [],
   "source": [
    "pd.DataFrame(data=results, index=[0]).to_csv('results.csv', index=False)"
   ],
   "metadata": {
    "collapsed": false,
    "ExecuteTime": {
     "end_time": "2023-08-03T11:32:08.605993Z",
     "start_time": "2023-08-03T11:32:08.573081800Z"
    }
   }
  }
 ],
 "metadata": {
  "kernelspec": {
   "display_name": "Python 3",
   "language": "python",
   "name": "python3"
  },
  "language_info": {
   "codemirror_mode": {
    "name": "ipython",
    "version": 2
   },
   "file_extension": ".py",
   "mimetype": "text/x-python",
   "name": "python",
   "nbconvert_exporter": "python",
   "pygments_lexer": "ipython2",
   "version": "2.7.6"
  }
 },
 "nbformat": 4,
 "nbformat_minor": 0
}
